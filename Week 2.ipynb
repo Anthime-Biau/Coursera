{
 "cells": [
  {
   "cell_type": "markdown",
   "metadata": {},
   "source": [
    "# Import Libraries"
   ]
  },
  {
   "cell_type": "code",
   "execution_count": 3,
   "metadata": {},
   "outputs": [],
   "source": [
    "import pandas\n",
    "import numpy\n",
    "import scipy.stats\n",
    "import seaborn\n",
    "import matplotlib.pyplot as plt"
   ]
  },
  {
   "cell_type": "markdown",
   "metadata": {},
   "source": [
    "# Load datas"
   ]
  },
  {
   "cell_type": "markdown",
   "metadata": {},
   "source": [
    "We are gonna check if SEX, S1Q1E, S1Q9A, S1Q238, S1Q239 are significant on CONSUMER DRINKING STATUS"
   ]
  },
  {
   "cell_type": "code",
   "execution_count": 10,
   "metadata": {},
   "outputs": [],
   "source": [
    "data = pandas.read_csv('nesarc.csv', low_memory=False)\n",
    "data = data.loc[data.index,[\"S2BQ1A9D\", \"S2AQ22\", \"AGE\", \"S2AQ12E\", \"S2AQ12C\", \"S2AQ8A\", \"S2AQ7I\"]]\n",
    "data = data[(data['AGE']>=18) & (data['AGE']<=25)]"
   ]
  },
  {
   "cell_type": "markdown",
   "metadata": {},
   "source": [
    "S2AQ7I : WHERE USUALLY DRANK LIQUOR IN LAST 12 MONTHS\n",
    "1. In own home\n",
    "2. In homes of friends or relatives\n",
    "3. In public places\n",
    "\n",
    "S2AQ8A : HOW OFTEN DRANK ANY ALCOHOL IN LAST 12 MONTHS\n",
    "1. Every day\n",
    "2. Nearly every day\n",
    "3. 3 to 4 times a week\n",
    "4. 2 times a week\n",
    "5. Once a week\n",
    "6. 2 to 3 times a month\n",
    "7. Once a month\n",
    "8. 7 to 11 times in the last year\n",
    "9. 3 to 6 times in the last year\n",
    "10. 1 or 2 times in the last year\n",
    "99. Unknown\n",
    "\n",
    "S2AQ8A : HOW OFTEN DRANK ANY ALCOHOL IN LAST 12 MONTHS\n",
    "1. Every day & Nearly every day\n",
    "2. Each week \n",
    "3. Each month\n",
    "4. Less than each month\n"
   ]
  },
  {
   "cell_type": "code",
   "execution_count": 11,
   "metadata": {
    "scrolled": false
   },
   "outputs": [
    {
     "data": {
      "text/html": [
       "<div>\n",
       "<style scoped>\n",
       "    .dataframe tbody tr th:only-of-type {\n",
       "        vertical-align: middle;\n",
       "    }\n",
       "\n",
       "    .dataframe tbody tr th {\n",
       "        vertical-align: top;\n",
       "    }\n",
       "\n",
       "    .dataframe thead th {\n",
       "        text-align: right;\n",
       "    }\n",
       "</style>\n",
       "<table border=\"1\" class=\"dataframe\">\n",
       "  <thead>\n",
       "    <tr style=\"text-align: right;\">\n",
       "      <th></th>\n",
       "      <th>S2BQ1A9D</th>\n",
       "      <th>S2AQ22</th>\n",
       "      <th>AGE</th>\n",
       "      <th>S2AQ12E</th>\n",
       "      <th>S2AQ12C</th>\n",
       "      <th>S2AQ8A</th>\n",
       "      <th>S2AQ7I</th>\n",
       "    </tr>\n",
       "  </thead>\n",
       "  <tbody>\n",
       "    <tr>\n",
       "      <td>30</td>\n",
       "      <td>2.0</td>\n",
       "      <td>8.0</td>\n",
       "      <td>20</td>\n",
       "      <td>11.0</td>\n",
       "      <td>11.0</td>\n",
       "      <td>3.0</td>\n",
       "      <td>1.0</td>\n",
       "    </tr>\n",
       "    <tr>\n",
       "      <td>76</td>\n",
       "      <td>2.0</td>\n",
       "      <td>9.0</td>\n",
       "      <td>21</td>\n",
       "      <td>11.0</td>\n",
       "      <td>11.0</td>\n",
       "      <td>4.0</td>\n",
       "      <td>1.0</td>\n",
       "    </tr>\n",
       "    <tr>\n",
       "      <td>102</td>\n",
       "      <td>1.0</td>\n",
       "      <td>5.0</td>\n",
       "      <td>24</td>\n",
       "      <td>11.0</td>\n",
       "      <td>10.0</td>\n",
       "      <td>2.0</td>\n",
       "      <td>3.0</td>\n",
       "    </tr>\n",
       "    <tr>\n",
       "      <td>104</td>\n",
       "      <td>2.0</td>\n",
       "      <td>11.0</td>\n",
       "      <td>21</td>\n",
       "      <td>11.0</td>\n",
       "      <td>11.0</td>\n",
       "      <td>2.0</td>\n",
       "      <td>3.0</td>\n",
       "    </tr>\n",
       "    <tr>\n",
       "      <td>120</td>\n",
       "      <td>1.0</td>\n",
       "      <td>4.0</td>\n",
       "      <td>21</td>\n",
       "      <td>10.0</td>\n",
       "      <td>9.0</td>\n",
       "      <td>3.0</td>\n",
       "      <td>3.0</td>\n",
       "    </tr>\n",
       "  </tbody>\n",
       "</table>\n",
       "</div>"
      ],
      "text/plain": [
       "     S2BQ1A9D  S2AQ22  AGE  S2AQ12E  S2AQ12C  S2AQ8A  S2AQ7I\n",
       "30        2.0     8.0   20     11.0     11.0     3.0     1.0\n",
       "76        2.0     9.0   21     11.0     11.0     4.0     1.0\n",
       "102       1.0     5.0   24     11.0     10.0     2.0     3.0\n",
       "104       2.0    11.0   21     11.0     11.0     2.0     3.0\n",
       "120       1.0     4.0   21     10.0      9.0     3.0     3.0"
      ]
     },
     "execution_count": 11,
     "metadata": {},
     "output_type": "execute_result"
    }
   ],
   "source": [
    "data['S2BQ1A9D'] = pandas.to_numeric(data['S2BQ1A9D'], errors='coerce')\n",
    "data['S2AQ22'] = pandas.to_numeric(data['S2AQ22'], errors='coerce')\n",
    "data['AGE'] = pandas.to_numeric(data['AGE'], errors='coerce')\n",
    "data['S2AQ12E'] = pandas.to_numeric(data['S2AQ12E'], errors='coerce')\n",
    "data['S2AQ12C'] = pandas.to_numeric(data['S2AQ12C'], errors='coerce')\n",
    "data['S2AQ8A'] = pandas.to_numeric(data['S2AQ8A'], errors='coerce')\n",
    "data['S2AQ7I'] = pandas.to_numeric(data['S2AQ7I'], errors='coerce')\n",
    "\n",
    "data['S2AQ7I'] = data['S2AQ7I'].replace(9, numpy.nan)\n",
    "data['S2AQ7I'] = data['S2AQ7I'].replace(2, numpy.nan)\n",
    "data[\"S2AQ8A\"] = data['S2AQ8A'].replace(99.0, numpy.nan)\n",
    "data[\"S2AQ8A\"] = data['S2AQ8A'].replace(2, 1)\n",
    "data[\"S2AQ8A\"] = data['S2AQ8A'].replace(3, 2)\n",
    "data[\"S2AQ8A\"] = data['S2AQ8A'].replace(4, 2)\n",
    "data[\"S2AQ8A\"] = data['S2AQ8A'].replace(5, 2)\n",
    "data[\"S2AQ8A\"] = data['S2AQ8A'].replace(6, 3)\n",
    "data[\"S2AQ8A\"] = data['S2AQ8A'].replace(7, 3)\n",
    "data[\"S2AQ8A\"] = data['S2AQ8A'].replace(8, 4)\n",
    "data[\"S2AQ8A\"] = data['S2AQ8A'].replace(9, 4)\n",
    "data[\"S2AQ8A\"] = data['S2AQ8A'].replace(10, 4)\n",
    "\n",
    "data = data.dropna()\n",
    "\n",
    "data.head()"
   ]
  },
  {
   "cell_type": "code",
   "execution_count": 12,
   "metadata": {
    "scrolled": true
   },
   "outputs": [
    {
     "name": "stdout",
     "output_type": "stream",
     "text": [
      "S2AQ8A  1.0  2.0  3.0  4.0\n",
      "S2AQ7I                    \n",
      "1.0      60  213  133   97\n",
      "3.0      79  456  287  194\n",
      "chi-square value, p value, expected counts\n",
      "(7.235465269774268, 0.06475959854288472, 3, array([[ 46.0283081 , 221.5319289 , 139.07834101,  96.36142199],\n",
      "       [ 92.9716919 , 447.4680711 , 280.92165899, 194.63857801]]))\n"
     ]
    }
   ],
   "source": [
    "ct1=pandas.crosstab(data['S2AQ7I'], data['S2AQ8A'])\n",
    "print (ct1)\n",
    "\n",
    "# chi-square\n",
    "print ('chi-square value, p value, expected counts')\n",
    "cs1= scipy.stats.chi2_contingency(ct1)\n",
    "print (cs1)"
   ]
  },
  {
   "cell_type": "markdown",
   "metadata": {},
   "source": [
    "The p-value is 0.06475959854288472 we can accept that there is a relationship between the place we drink and the frequency"
   ]
  },
  {
   "cell_type": "code",
   "execution_count": 13,
   "metadata": {
    "scrolled": false
   },
   "outputs": [
    {
     "name": "stdout",
     "output_type": "stream",
     "text": [
      "COMP1v2  1.0  2.0\n",
      "S2AQ7I           \n",
      "1.0       60  213\n",
      "3.0       79  456\n",
      "COMP1v2       1.0       2.0\n",
      "S2AQ7I                     \n",
      "1.0      0.431655  0.318386\n",
      "3.0      0.568345  0.681614\n",
      "chi-square value, p value, expected counts\n",
      "(6.103615341536044, 0.01349056081380569, 1, array([[ 46.96410891, 226.03589109],\n",
      "       [ 92.03589109, 442.96410891]]))\n"
     ]
    }
   ],
   "source": [
    "recode2 = {1: 1, 2: 2}\n",
    "sub1 = data\n",
    "sub1['COMP1v2']= sub1['S2AQ8A'].map(recode2)\n",
    "\n",
    "# contingency table of observed counts\n",
    "ct2=pandas.crosstab(sub1['S2AQ7I'], sub1['COMP1v2'])\n",
    "print (ct2)\n",
    "\n",
    "# column percentages\n",
    "colsum=ct2.sum(axis=0)\n",
    "colpct=ct2/colsum\n",
    "print(colpct)\n",
    "\n",
    "print ('chi-square value, p value, expected counts')\n",
    "cs2= scipy.stats.chi2_contingency(ct2)\n",
    "print (cs2)"
   ]
  },
  {
   "cell_type": "code",
   "execution_count": 14,
   "metadata": {
    "scrolled": true
   },
   "outputs": [
    {
     "name": "stdout",
     "output_type": "stream",
     "text": [
      "COMP1v3  1.0  3.0\n",
      "S2AQ7I           \n",
      "1.0       60  133\n",
      "3.0       79  287\n",
      "COMP1v3       1.0       3.0\n",
      "S2AQ7I                     \n",
      "1.0      0.431655  0.316667\n",
      "3.0      0.568345  0.683333\n",
      "chi-square value, p value, expected counts\n",
      "(5.61053057488484, 0.017852856557252925, 1, array([[ 47.99105546, 145.00894454],\n",
      "       [ 91.00894454, 274.99105546]]))\n"
     ]
    }
   ],
   "source": [
    "recode3 = {1: 1, 3: 3}\n",
    "sub2 = data\n",
    "sub2['COMP1v3']= sub2['S2AQ8A'].map(recode3)\n",
    "\n",
    "# contingency table of observed counts\n",
    "ct3=pandas.crosstab(sub2['S2AQ7I'], sub2['COMP1v3'])\n",
    "print (ct3)\n",
    "\n",
    "# column percentages\n",
    "colsum=ct3.sum(axis=0)\n",
    "colpct=ct3/colsum\n",
    "print(colpct)\n",
    "\n",
    "print ('chi-square value, p value, expected counts')\n",
    "cs3= scipy.stats.chi2_contingency(ct3)\n",
    "print (cs3)"
   ]
  },
  {
   "cell_type": "code",
   "execution_count": 15,
   "metadata": {
    "scrolled": true
   },
   "outputs": [
    {
     "name": "stdout",
     "output_type": "stream",
     "text": [
      "COMP1v4  1.0  4.0\n",
      "S2AQ7I           \n",
      "1.0       60   97\n",
      "3.0       79  194\n",
      "COMP1v4       1.0       4.0\n",
      "S2AQ7I                     \n",
      "1.0      0.431655  0.333333\n",
      "3.0      0.568345  0.666667\n",
      "chi-square value, p value, expected counts\n",
      "(3.5102330369737156, 0.06099087608635307, 1, array([[ 50.75116279, 106.24883721],\n",
      "       [ 88.24883721, 184.75116279]]))\n"
     ]
    }
   ],
   "source": [
    "recode4 = {1: 1, 4: 4}\n",
    "sub3 = data\n",
    "sub3['COMP1v4']= sub3['S2AQ8A'].map(recode4)\n",
    "\n",
    "# contingency table of observed counts\n",
    "ct4=pandas.crosstab(sub3['S2AQ7I'], sub3['COMP1v4'])\n",
    "print (ct4)\n",
    "\n",
    "# column percentages\n",
    "colsum=ct4.sum(axis=0)\n",
    "colpct=ct4/colsum\n",
    "print(colpct)\n",
    "\n",
    "print ('chi-square value, p value, expected counts')\n",
    "cs4= scipy.stats.chi2_contingency(ct4)\n",
    "print (cs4)"
   ]
  },
  {
   "cell_type": "code",
   "execution_count": 16,
   "metadata": {},
   "outputs": [
    {
     "name": "stdout",
     "output_type": "stream",
     "text": [
      "COMP2v3  2.0  3.0\n",
      "S2AQ7I           \n",
      "1.0      213  133\n",
      "3.0      456  287\n",
      "COMP2v3       2.0       3.0\n",
      "S2AQ7I                     \n",
      "1.0      0.318386  0.316667\n",
      "3.0      0.681614  0.683333\n",
      "chi-square value, p value, expected counts\n",
      "(5.7021388787849715e-05, 0.9939750308230958, 1, array([[212.55647383, 133.44352617],\n",
      "       [456.44352617, 286.55647383]]))\n"
     ]
    }
   ],
   "source": [
    "recode5 = {2: 2, 3: 3}\n",
    "sub4 = data\n",
    "sub4['COMP2v3']= sub4['S2AQ8A'].map(recode5)\n",
    "\n",
    "# contingency table of observed counts\n",
    "ct5=pandas.crosstab(sub4['S2AQ7I'], sub4['COMP2v3'])\n",
    "print (ct5)\n",
    "\n",
    "# column percentages\n",
    "colsum=ct5.sum(axis=0)\n",
    "colpct=ct5/colsum\n",
    "print(colpct)\n",
    "\n",
    "print ('chi-square value, p value, expected counts')\n",
    "cs5= scipy.stats.chi2_contingency(ct5)\n",
    "print (cs5)"
   ]
  },
  {
   "cell_type": "code",
   "execution_count": 17,
   "metadata": {},
   "outputs": [
    {
     "name": "stdout",
     "output_type": "stream",
     "text": [
      "COMP2v4  2.0  4.0\n",
      "S2AQ7I           \n",
      "1.0      213   97\n",
      "3.0      456  194\n",
      "COMP2v4       2.0       4.0\n",
      "S2AQ7I                     \n",
      "1.0      0.318386  0.333333\n",
      "3.0      0.681614  0.666667\n",
      "chi-square value, p value, expected counts\n",
      "(0.14450724554055944, 0.7038406884581554, 1, array([[216.03125,  93.96875],\n",
      "       [452.96875, 197.03125]]))\n"
     ]
    }
   ],
   "source": [
    "recode6 = {2: 2, 4: 4}\n",
    "sub5 = data\n",
    "sub5['COMP2v4']= sub5['S2AQ8A'].map(recode6)\n",
    "\n",
    "# contingency table of observed counts\n",
    "ct6=pandas.crosstab(sub5['S2AQ7I'], sub4['COMP2v4'])\n",
    "print (ct6)\n",
    "\n",
    "# column percentages\n",
    "colsum=ct6.sum(axis=0)\n",
    "colpct=ct6/colsum\n",
    "print(colpct)\n",
    "\n",
    "print ('chi-square value, p value, expected counts')\n",
    "cs6= scipy.stats.chi2_contingency(ct6)\n",
    "print (cs6)"
   ]
  },
  {
   "cell_type": "code",
   "execution_count": 18,
   "metadata": {
    "scrolled": false
   },
   "outputs": [
    {
     "name": "stdout",
     "output_type": "stream",
     "text": [
      "COMP3v4  3.0  4.0\n",
      "S2AQ7I           \n",
      "1.0      133   97\n",
      "3.0      287  194\n",
      "COMP3v4       3.0       4.0\n",
      "S2AQ7I                     \n",
      "1.0      0.316667  0.333333\n",
      "3.0      0.683333  0.666667\n",
      "chi-square value, p value, expected counts\n",
      "(0.14867849361742225, 0.6998014493089915, 1, array([[135.8649789,  94.1350211],\n",
      "       [284.1350211, 196.8649789]]))\n"
     ]
    }
   ],
   "source": [
    "recode7 = {3: 3, 4: 4}\n",
    "sub6 = data\n",
    "sub6['COMP3v4']= sub6['S2AQ8A'].map(recode7)\n",
    "\n",
    "# contingency table of observed counts\n",
    "ct7=pandas.crosstab(sub6['S2AQ7I'], sub6['COMP3v4'])\n",
    "print (ct7)\n",
    "\n",
    "# column percentages\n",
    "colsum=ct7.sum(axis=0)\n",
    "colpct=ct7/colsum\n",
    "print(colpct)\n",
    "\n",
    "print ('chi-square value, p value, expected counts')\n",
    "cs7= scipy.stats.chi2_contingency(ct7)\n",
    "print (cs7)"
   ]
  },
  {
   "cell_type": "code",
   "execution_count": 24,
   "metadata": {},
   "outputs": [],
   "source": [
    "out = pandas.DataFrame(numpy.array([[\"X\",\"\",\"\",\"\"], [0.01349056081380569/4,\"X\",\"\",\"\"],[0.017852856557252925/4, 0.9939750308230958/4, \"X\",\"\" ], [0.06099087608635307/4, 0.7038406884581554/4, 0.6998014493089915/4, \"X\"]]), columns=['1', '2', '3', '4'], index=['1', '2', '3', '4'])"
   ]
  },
  {
   "cell_type": "code",
   "execution_count": 25,
   "metadata": {},
   "outputs": [
    {
     "data": {
      "text/html": [
       "<div>\n",
       "<style scoped>\n",
       "    .dataframe tbody tr th:only-of-type {\n",
       "        vertical-align: middle;\n",
       "    }\n",
       "\n",
       "    .dataframe tbody tr th {\n",
       "        vertical-align: top;\n",
       "    }\n",
       "\n",
       "    .dataframe thead th {\n",
       "        text-align: right;\n",
       "    }\n",
       "</style>\n",
       "<table border=\"1\" class=\"dataframe\">\n",
       "  <thead>\n",
       "    <tr style=\"text-align: right;\">\n",
       "      <th></th>\n",
       "      <th>1</th>\n",
       "      <th>2</th>\n",
       "      <th>3</th>\n",
       "      <th>4</th>\n",
       "    </tr>\n",
       "  </thead>\n",
       "  <tbody>\n",
       "    <tr>\n",
       "      <td>1</td>\n",
       "      <td>X</td>\n",
       "      <td></td>\n",
       "      <td></td>\n",
       "      <td></td>\n",
       "    </tr>\n",
       "    <tr>\n",
       "      <td>2</td>\n",
       "      <td>0.0033726402034514225</td>\n",
       "      <td>X</td>\n",
       "      <td></td>\n",
       "      <td></td>\n",
       "    </tr>\n",
       "    <tr>\n",
       "      <td>3</td>\n",
       "      <td>0.004463214139313231</td>\n",
       "      <td>0.24849375770577395</td>\n",
       "      <td>X</td>\n",
       "      <td></td>\n",
       "    </tr>\n",
       "    <tr>\n",
       "      <td>4</td>\n",
       "      <td>0.015247719021588267</td>\n",
       "      <td>0.17596017211453885</td>\n",
       "      <td>0.17495036232724787</td>\n",
       "      <td>X</td>\n",
       "    </tr>\n",
       "  </tbody>\n",
       "</table>\n",
       "</div>"
      ],
      "text/plain": [
       "                       1                    2                    3  4\n",
       "1                      X                                             \n",
       "2  0.0033726402034514225                    X                        \n",
       "3   0.004463214139313231  0.24849375770577395                    X   \n",
       "4   0.015247719021588267  0.17596017211453885  0.17495036232724787  X"
      ]
     },
     "execution_count": 25,
     "metadata": {},
     "output_type": "execute_result"
    }
   ],
   "source": [
    "out"
   ]
  },
  {
   "cell_type": "markdown",
   "metadata": {},
   "source": [
    "Then we can compare between coupleThe place we chose to drink lequor depend on our frequence of drinking "
   ]
  },
  {
   "cell_type": "code",
   "execution_count": null,
   "metadata": {},
   "outputs": [],
   "source": []
  },
  {
   "cell_type": "code",
   "execution_count": null,
   "metadata": {},
   "outputs": [],
   "source": []
  },
  {
   "cell_type": "code",
   "execution_count": null,
   "metadata": {},
   "outputs": [],
   "source": []
  }
 ],
 "metadata": {
  "kernelspec": {
   "display_name": "Python 3",
   "language": "python",
   "name": "python3"
  },
  "language_info": {
   "codemirror_mode": {
    "name": "ipython",
    "version": 3
   },
   "file_extension": ".py",
   "mimetype": "text/x-python",
   "name": "python",
   "nbconvert_exporter": "python",
   "pygments_lexer": "ipython3",
   "version": "3.7.4"
  }
 },
 "nbformat": 4,
 "nbformat_minor": 2
}
