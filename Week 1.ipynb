{
 "cells": [
  {
   "cell_type": "markdown",
   "metadata": {},
   "source": [
    "# Import Libraries"
   ]
  },
  {
   "cell_type": "code",
   "execution_count": 120,
   "metadata": {},
   "outputs": [],
   "source": [
    "import pandas as pd\n",
    "import numpy as np\n",
    "import statsmodels.stats.multicomp as multi \n",
    "import statsmodels.formula.api as smf\n"
   ]
  },
  {
   "cell_type": "markdown",
   "metadata": {},
   "source": [
    "# Load datas"
   ]
  },
  {
   "cell_type": "code",
   "execution_count": 129,
   "metadata": {},
   "outputs": [],
   "source": [
    "df = pd.read_csv(\"ramen-ratings.csv\", index_col = \"Review #\")"
   ]
  },
  {
   "cell_type": "code",
   "execution_count": 130,
   "metadata": {
    "scrolled": false
   },
   "outputs": [
    {
     "data": {
      "text/html": [
       "<div>\n",
       "<style scoped>\n",
       "    .dataframe tbody tr th:only-of-type {\n",
       "        vertical-align: middle;\n",
       "    }\n",
       "\n",
       "    .dataframe tbody tr th {\n",
       "        vertical-align: top;\n",
       "    }\n",
       "\n",
       "    .dataframe thead th {\n",
       "        text-align: right;\n",
       "    }\n",
       "</style>\n",
       "<table border=\"1\" class=\"dataframe\">\n",
       "  <thead>\n",
       "    <tr style=\"text-align: right;\">\n",
       "      <th></th>\n",
       "      <th>Brand</th>\n",
       "      <th>Variety</th>\n",
       "      <th>Style</th>\n",
       "      <th>Country</th>\n",
       "      <th>Stars</th>\n",
       "      <th>Top Ten</th>\n",
       "    </tr>\n",
       "    <tr>\n",
       "      <th>Review #</th>\n",
       "      <th></th>\n",
       "      <th></th>\n",
       "      <th></th>\n",
       "      <th></th>\n",
       "      <th></th>\n",
       "      <th></th>\n",
       "    </tr>\n",
       "  </thead>\n",
       "  <tbody>\n",
       "    <tr>\n",
       "      <td>2580</td>\n",
       "      <td>New Touch</td>\n",
       "      <td>T's Restaurant Tantanmen</td>\n",
       "      <td>Cup</td>\n",
       "      <td>Japan</td>\n",
       "      <td>3.75</td>\n",
       "      <td>NaN</td>\n",
       "    </tr>\n",
       "    <tr>\n",
       "      <td>2579</td>\n",
       "      <td>Just Way</td>\n",
       "      <td>Noodles Spicy Hot Sesame Spicy Hot Sesame Guan...</td>\n",
       "      <td>Pack</td>\n",
       "      <td>Taiwan</td>\n",
       "      <td>1</td>\n",
       "      <td>NaN</td>\n",
       "    </tr>\n",
       "    <tr>\n",
       "      <td>2578</td>\n",
       "      <td>Nissin</td>\n",
       "      <td>Cup Noodles Chicken Vegetable</td>\n",
       "      <td>Cup</td>\n",
       "      <td>USA</td>\n",
       "      <td>2.25</td>\n",
       "      <td>NaN</td>\n",
       "    </tr>\n",
       "    <tr>\n",
       "      <td>2577</td>\n",
       "      <td>Wei Lih</td>\n",
       "      <td>GGE Ramen Snack Tomato Flavor</td>\n",
       "      <td>Pack</td>\n",
       "      <td>Taiwan</td>\n",
       "      <td>2.75</td>\n",
       "      <td>NaN</td>\n",
       "    </tr>\n",
       "    <tr>\n",
       "      <td>2576</td>\n",
       "      <td>Ching's Secret</td>\n",
       "      <td>Singapore Curry</td>\n",
       "      <td>Pack</td>\n",
       "      <td>India</td>\n",
       "      <td>3.75</td>\n",
       "      <td>NaN</td>\n",
       "    </tr>\n",
       "  </tbody>\n",
       "</table>\n",
       "</div>"
      ],
      "text/plain": [
       "                   Brand                                            Variety  \\\n",
       "Review #                                                                      \n",
       "2580           New Touch                          T's Restaurant Tantanmen    \n",
       "2579            Just Way  Noodles Spicy Hot Sesame Spicy Hot Sesame Guan...   \n",
       "2578              Nissin                      Cup Noodles Chicken Vegetable   \n",
       "2577             Wei Lih                      GGE Ramen Snack Tomato Flavor   \n",
       "2576      Ching's Secret                                    Singapore Curry   \n",
       "\n",
       "         Style Country Stars Top Ten  \n",
       "Review #                              \n",
       "2580       Cup   Japan  3.75     NaN  \n",
       "2579      Pack  Taiwan     1     NaN  \n",
       "2578       Cup     USA  2.25     NaN  \n",
       "2577      Pack  Taiwan  2.75     NaN  \n",
       "2576      Pack   India  3.75     NaN  "
      ]
     },
     "execution_count": 130,
     "metadata": {},
     "output_type": "execute_result"
    }
   ],
   "source": [
    "df.head()"
   ]
  },
  {
   "cell_type": "markdown",
   "metadata": {},
   "source": [
    "# Prepare Datas"
   ]
  },
  {
   "cell_type": "code",
   "execution_count": 131,
   "metadata": {},
   "outputs": [],
   "source": [
    "df = df[df.Stars!= \"Unrated\"]"
   ]
  },
  {
   "cell_type": "code",
   "execution_count": 192,
   "metadata": {},
   "outputs": [],
   "source": [
    "def continent(df):\n",
    "    list_Asia = ['Japan', 'Taiwan', 'India', 'South Korea', 'Singapore', 'Thailand', 'Hong Kong', 'Vietnam', 'Malaysia',\n",
    "                 'Indonesia', 'China', 'Pakistan', 'Bangladesh', 'Nepal', 'Myanmar', 'Cambodia', 'Philippines', 'Sarawak']\n",
    "    list_Oceania = ['Fiji', 'Australia']\n",
    "    list_Europe = ['Hungary', 'Germany', 'UK', 'Netherlands', 'Finland', 'Sweden', 'Estonia', 'Holland', 'Poland']\n",
    "    list_Africa = ['Ghana', 'Nigeria']\n",
    "    list_America = ['USA', 'Mexico', 'Canada', 'Brazil', 'United States', 'Colombia']\n",
    "    list_Middle_East = ['Dubai']\n",
    "    if df['Country'] in list_Asia:\n",
    "        df['Continent'] = \"Asia\"\n",
    "    if df['Country'] in list_Oceania:\n",
    "        df['Continent'] = \"Oceania\"\n",
    "    if df['Country'] in list_Europe:\n",
    "        df['Continent'] = \"Europe\"\n",
    "    if df['Country'] in list_Africa:\n",
    "        df['Continent'] = \"Africa\"\n",
    "    if df['Country'] in list_America:\n",
    "        df['Continent'] = \"America\"\n",
    "    if df['Country'] in list_Middle_East:\n",
    "        df['Continent'] = 'Middle_East'\n",
    "    return df\n",
    "\n",
    "df = df.apply(continent, axis=1)\n",
    "df['Stars'] = df['Stars'].astype('float')"
   ]
  },
  {
   "cell_type": "markdown",
   "metadata": {},
   "source": [
    "# Apply ANOVA"
   ]
  },
  {
   "cell_type": "code",
   "execution_count": 195,
   "metadata": {
    "scrolled": true
   },
   "outputs": [
    {
     "name": "stdout",
     "output_type": "stream",
     "text": [
      "                            OLS Regression Results                            \n",
      "==============================================================================\n",
      "Dep. Variable:                  Stars   R-squared:                       0.035\n",
      "Model:                            OLS   Adj. R-squared:                  0.033\n",
      "Method:                 Least Squares   F-statistic:                     18.59\n",
      "Date:                Sun, 23 Feb 2020   Prob (F-statistic):           3.47e-18\n",
      "Time:                        11:43:34   Log-Likelihood:                -3649.5\n",
      "No. Observations:                2577   AIC:                             7311.\n",
      "Df Residuals:                    2571   BIC:                             7346.\n",
      "Df Model:                           5                                         \n",
      "Covariance Type:            nonrobust                                         \n",
      "===============================================================================================\n",
      "                                  coef    std err          t      P>|t|      [0.025      0.975]\n",
      "-----------------------------------------------------------------------------------------------\n",
      "Intercept                       2.8333      0.576      4.915      0.000       1.703       3.964\n",
      "C(Continent)[T.America]         0.5261      0.579      0.909      0.363      -0.608       1.661\n",
      "C(Continent)[T.Asia]            0.9197      0.577      1.594      0.111      -0.211       2.051\n",
      "C(Continent)[T.Europe]          0.3362      0.583      0.577      0.564      -0.807       1.479\n",
      "C(Continent)[T.Middle_East]     0.7500      0.815      0.920      0.358      -0.849       2.349\n",
      "C(Continent)[T.Oceania]         0.4186      0.609      0.688      0.492      -0.775       1.612\n",
      "==============================================================================\n",
      "Omnibus:                      458.493   Durbin-Watson:                   1.712\n",
      "Prob(Omnibus):                  0.000   Jarque-Bera (JB):              857.633\n",
      "Skew:                          -1.093   Prob(JB):                    5.85e-187\n",
      "Kurtosis:                       4.792   Cond. No.                         94.9\n",
      "==============================================================================\n",
      "\n",
      "Warnings:\n",
      "[1] Standard Errors assume that the covariance matrix of the errors is correctly specified.\n"
     ]
    }
   ],
   "source": [
    "model1 = smf.ols(formula='Stars ~ C(Continent)', data=df)\n",
    "results1 = model1.fit()\n",
    "print (results1.summary())"
   ]
  },
  {
   "cell_type": "markdown",
   "metadata": {},
   "source": [
    "We can see the P-value is 6.87e -19 < 0.05. We can reject the H0 hypothesis. Means there is a relation between the continent and the rate of the ramen and all means are not equals."
   ]
  },
  {
   "cell_type": "code",
   "execution_count": 196,
   "metadata": {
    "scrolled": true
   },
   "outputs": [
    {
     "name": "stdout",
     "output_type": "stream",
     "text": [
      "                Stars\n",
      "Continent            \n",
      "Africa       2.833333\n",
      "America      3.359414\n",
      "Asia         3.753050\n",
      "Europe       3.169485\n",
      "Middle_East  3.583333\n",
      "Oceania      3.251923\n"
     ]
    }
   ],
   "source": [
    "m2= df.groupby('Continent').mean()\n",
    "print (m2)"
   ]
  },
  {
   "cell_type": "markdown",
   "metadata": {},
   "source": [
    "As we have more than two categories, we need to use a Post Hoc Test"
   ]
  },
  {
   "cell_type": "code",
   "execution_count": 197,
   "metadata": {},
   "outputs": [
    {
     "name": "stdout",
     "output_type": "stream",
     "text": [
      "     Multiple Comparison of Means - Tukey HSD, FWER=0.05      \n",
      "==============================================================\n",
      "   group1      group2   meandiff p-adj   lower   upper  reject\n",
      "--------------------------------------------------------------\n",
      "     Africa     America   0.5261    0.9  -1.124  2.1761  False\n",
      "     Africa        Asia   0.9197 0.5882 -0.7254  2.5649  False\n",
      "     Africa      Europe   0.3362    0.9 -1.3258  1.9981  False\n",
      "     Africa Middle_East     0.75    0.9 -1.5748  3.0748  False\n",
      "     Africa     Oceania   0.4186    0.9 -1.3176  2.1548  False\n",
      "    America        Asia   0.3936  0.001  0.2379  0.5494   True\n",
      "    America      Europe  -0.1899 0.3933 -0.4725  0.0926  False\n",
      "    America Middle_East   0.2239    0.9 -1.4261   1.874  False\n",
      "    America     Oceania  -0.1075    0.9 -0.6837  0.4687  False\n",
      "       Asia      Europe  -0.5836  0.001 -0.8359 -0.3313   True\n",
      "       Asia Middle_East  -0.1697    0.9 -1.8149  1.4754  False\n",
      "       Asia     Oceania  -0.5011 0.1124 -1.0631  0.0609  False\n",
      "     Europe Middle_East   0.4138    0.9 -1.2481  2.0758  False\n",
      "     Europe     Oceania   0.0824    0.9  -0.527  0.6919  False\n",
      "Middle_East     Oceania  -0.3314    0.9 -2.0676  1.4048  False\n",
      "--------------------------------------------------------------\n"
     ]
    }
   ],
   "source": [
    "mc1 = multi.MultiComparison(df['Stars'], df['Continent'])\n",
    "res1 = mc1.tukeyhsd()\n",
    "print(res1.summary())"
   ]
  },
  {
   "cell_type": "markdown",
   "metadata": {},
   "source": [
    "America vs Asia and Asia vs Europe are set to True. It means the rating is significant over those continents."
   ]
  }
 ],
 "metadata": {
  "kernelspec": {
   "display_name": "Python 3",
   "language": "python",
   "name": "python3"
  },
  "language_info": {
   "codemirror_mode": {
    "name": "ipython",
    "version": 3
   },
   "file_extension": ".py",
   "mimetype": "text/x-python",
   "name": "python",
   "nbconvert_exporter": "python",
   "pygments_lexer": "ipython3",
   "version": "3.7.4"
  }
 },
 "nbformat": 4,
 "nbformat_minor": 2
}
